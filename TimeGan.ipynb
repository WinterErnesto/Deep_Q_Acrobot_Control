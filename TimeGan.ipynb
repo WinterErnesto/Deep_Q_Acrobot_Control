{
  "nbformat": 4,
  "nbformat_minor": 0,
  "metadata": {
    "colab": {
      "provenance": [],
      "mount_file_id": "1zh5eVYl569KHCn3tmisDEmGrpufwONkk",
      "authorship_tag": "ABX9TyPphLmKag3UmoNHQkO1IVh/",
      "include_colab_link": true
    },
    "kernelspec": {
      "name": "python3",
      "display_name": "Python 3"
    },
    "language_info": {
      "name": "python"
    }
  },
  "cells": [
    {
      "cell_type": "markdown",
      "metadata": {
        "id": "view-in-github",
        "colab_type": "text"
      },
      "source": [
        "<a href=\"https://colab.research.google.com/github/WinterErnesto/Deep_Q_Acrobot_Control/blob/main/TimeGan.ipynb\" target=\"_parent\"><img src=\"https://colab.research.google.com/assets/colab-badge.svg\" alt=\"Open In Colab\"/></a>"
      ]
    },
    {
      "cell_type": "code",
      "execution_count": null,
      "metadata": {
        "id": "yudDGk6wcA9s"
      },
      "outputs": [],
      "source": []
    }
  ]
}